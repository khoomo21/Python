{
 "cells": [
  {
   "cell_type": "code",
   "execution_count": null,
   "id": "089e4c4d",
   "metadata": {},
   "outputs": [
    {
     "name": "stdout",
     "output_type": "stream",
     "text": [
      "84\n"
     ]
    }
   ],
   "source": [
    "# Given a side of square. Find its perimeter and area.\n",
    "\n",
    "a=21\n",
    "p=4*a\n",
    "print(p)\n"
   ]
  },
  {
   "cell_type": "code",
   "execution_count": null,
   "id": "ef7943ef",
   "metadata": {},
   "outputs": [
    {
     "name": "stdout",
     "output_type": "stream",
     "text": [
      "441\n"
     ]
    }
   ],
   "source": [
    "# Given a side of square. Find its perimeter and area.\n",
    "\n",
    "a=21\n",
    "S = a**2\n",
    "print(S)"
   ]
  },
  {
   "cell_type": "code",
   "execution_count": 6,
   "id": "5905f1ba",
   "metadata": {},
   "outputs": [
    {
     "name": "stdout",
     "output_type": "stream",
     "text": [
      "31.41592653589793\n"
     ]
    }
   ],
   "source": [
    "# Given diameter of circle. Find its length.\n",
    "\n",
    "import math\n",
    "d = 10\n",
    "print(math.pi * d)"
   ]
  },
  {
   "cell_type": "code",
   "execution_count": 7,
   "id": "fa9d27e0",
   "metadata": {},
   "outputs": [
    {
     "name": "stdout",
     "output_type": "stream",
     "text": [
      "6.5\n"
     ]
    }
   ],
   "source": [
    "#Given two numbers a and b. Find their mean.\n",
    "\n",
    "a = 5\n",
    "b = 8\n",
    "print((a + b) / 2)\n"
   ]
  },
  {
   "cell_type": "code",
   "execution_count": 8,
   "id": "8f7bb5b7",
   "metadata": {},
   "outputs": [
    {
     "name": "stdout",
     "output_type": "stream",
     "text": [
      "Сумма = 11\n",
      "Произведение = 28\n",
      "Квадрат a = 16\n",
      "Квадрат b = 49\n"
     ]
    }
   ],
   "source": [
    "#Given two numbers a and b. Find their sum, product and square of each number.\n",
    "\n",
    "a = 4\n",
    "b = 7\n",
    "\n",
    "print(\"Сумма =\", a + b)\n",
    "print(\"Произведение =\", a * b)\n",
    "print(\"Квадрат a =\", a ** 2)\n",
    "print(\"Квадрат b =\", b ** 2)\n"
   ]
  }
 ],
 "metadata": {
  "kernelspec": {
   "display_name": "Python 3",
   "language": "python",
   "name": "python3"
  },
  "language_info": {
   "codemirror_mode": {
    "name": "ipython",
    "version": 3
   },
   "file_extension": ".py",
   "mimetype": "text/x-python",
   "name": "python",
   "nbconvert_exporter": "python",
   "pygments_lexer": "ipython3",
   "version": "3.12.9"
  }
 },
 "nbformat": 4,
 "nbformat_minor": 5
}
