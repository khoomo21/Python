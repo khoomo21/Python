{
 "cells": [
  {
   "cell_type": "code",
   "execution_count": 1,
   "id": "2e436254",
   "metadata": {},
   "outputs": [
    {
     "name": "stdout",
     "output_type": "stream",
     "text": [
      "the third fruit is strawberry\n"
     ]
    }
   ],
   "source": [
    "## 1. Create and Access List Elements\n",
    "\n",
    "fruits = ['apple', 'banana', 'strawberry', 'melon', 'peach']\n",
    "\n",
    "third_fruit = fruits[2]\n",
    "print(f'the third fruit is {third_fruit}')"
   ]
  },
  {
   "cell_type": "code",
   "execution_count": 6,
   "id": "66d63aa8",
   "metadata": {},
   "outputs": [
    {
     "name": "stdout",
     "output_type": "stream",
     "text": [
      "[1, 2, 3, 4, 5, 6, 7, 8, 9, 10]\n"
     ]
    }
   ],
   "source": [
    "## 2. Concatenate Two Lists\n",
    "\n",
    "first_ls = [1,2,3,4,5]\n",
    "second_ls = [6,7,8,9,10]\n",
    "first_ls.extend(second_ls)\n",
    "print(first_ls)"
   ]
  },
  {
   "cell_type": "code",
   "execution_count": 7,
   "id": "7e0e2ae1",
   "metadata": {},
   "outputs": [
    {
     "name": "stdout",
     "output_type": "stream",
     "text": [
      "[1, 6, 10]\n"
     ]
    }
   ],
   "source": [
    "## 3. Extract Elements from a List\n",
    "\n",
    "numbers = [1,2,3,4,5,6,7,8,9,10]\n",
    "\n",
    "first_num = numbers[0]\n",
    "middle_num = numbers[len(numbers)//2]\n",
    "last_num = numbers[-1]\n",
    "\n",
    "new_list = [first_num, middle_num, last_num]\n",
    "\n",
    "print(new_list)\n"
   ]
  },
  {
   "cell_type": "code",
   "execution_count": 8,
   "id": "ec8022f0",
   "metadata": {},
   "outputs": [
    {
     "name": "stdout",
     "output_type": "stream",
     "text": [
      "('Hobbit', 'the lord of the rings', 'Harry Potter', 'Game of thrones', 'Avangers')\n"
     ]
    }
   ],
   "source": [
    "## 4. Convert List to Tuple\n",
    "\n",
    "movies = ['Hobbit', 'the lord of the rings', 'Harry Potter', 'Game of thrones', 'Avangers']\n",
    "\n",
    "movies_tuple = tuple(movies)\n",
    "print(movies_tuple)\n"
   ]
  },
  {
   "cell_type": "code",
   "execution_count": 11,
   "id": "e2ab6029",
   "metadata": {},
   "outputs": [
    {
     "name": "stdout",
     "output_type": "stream",
     "text": [
      "parij in the list\n"
     ]
    }
   ],
   "source": [
    "## 5. Check Element in a List\n",
    "\n",
    "countries = ['new york', 'london', 'parij', 'manchester', 'tashkent']\n",
    "\n",
    "if 'parij' in countries: \n",
    "    print('parij in the list')\n",
    "else:\n",
    "    print('parij is not in the list')   "
   ]
  },
  {
   "cell_type": "code",
   "execution_count": 12,
   "id": "1e5420f7",
   "metadata": {},
   "outputs": [
    {
     "name": "stdout",
     "output_type": "stream",
     "text": [
      "[1, 2, 3, 1, 2, 3]\n"
     ]
    }
   ],
   "source": [
    "## 6. Duplicate a List Without Using Loops\n",
    "\n",
    "nums = [1,2,3]\n",
    "\n",
    "duplicate_nums= nums*2\n",
    "print(duplicate_nums)"
   ]
  },
  {
   "cell_type": "code",
   "execution_count": 13,
   "id": "8ba0198e",
   "metadata": {},
   "outputs": [
    {
     "name": "stdout",
     "output_type": "stream",
     "text": [
      "[5, 2, 3, 4, 1]\n"
     ]
    }
   ],
   "source": [
    "## 7. Swap First and Last Elements of a List\n",
    "\n",
    "swap_list = [1,2,3,4,5]\n",
    "\n",
    "swap_list[0],swap_list[-1] = swap_list[-1], swap_list[0]\n",
    "print(swap_list)"
   ]
  },
  {
   "cell_type": "code",
   "execution_count": 2,
   "id": "d5588cb4",
   "metadata": {},
   "outputs": [
    {
     "name": "stdout",
     "output_type": "stream",
     "text": [
      "(3, 4, 5, 6, 7)\n"
     ]
    }
   ],
   "source": [
    "## 8. Slice a Tuple\n",
    "\n",
    "num_tuple = (1,2,3,4,5,6,7,8,9,10)\n",
    "\n",
    "my_new_tuple = num_tuple[2:7]\n",
    "print(my_new_tuple)"
   ]
  },
  {
   "cell_type": "code",
   "execution_count": 24,
   "id": "477934ca",
   "metadata": {},
   "outputs": [
    {
     "name": "stdout",
     "output_type": "stream",
     "text": [
      "the total count of blue color is 2\n"
     ]
    }
   ],
   "source": [
    "## 9. Count Occurrences in a List\n",
    "\n",
    "colors = ['blue', 'red', 'green', 'blue', 'orange','black','white']\n",
    "\n",
    "colors_count = 0\n",
    "\n",
    "for color_blue in colors:\n",
    "    if color_blue == 'blue':\n",
    "        colors_count +=1\n",
    "\n",
    "if colors_count > 0:\n",
    "    print(f'the total count of blue color is {colors_count}')\n",
    "else: print('the is no blue color in the list')    "
   ]
  },
  {
   "cell_type": "code",
   "execution_count": 27,
   "id": "6e19c701",
   "metadata": {},
   "outputs": [
    {
     "name": "stdout",
     "output_type": "stream",
     "text": [
      "the index of lion in the list is 1\n"
     ]
    }
   ],
   "source": [
    "## 10. Find the Index of an Element in a Tuple\n",
    "\n",
    "animals = ('cat', 'lion', 'tiger', 'elephent', 'monkey')\n",
    "\n",
    "animal_index = animals.index('lion')\n",
    "print(f'the index of lion in the list is {animal_index}')\n",
    "\n"
   ]
  },
  {
   "cell_type": "code",
   "execution_count": 30,
   "id": "a45aafc1",
   "metadata": {},
   "outputs": [
    {
     "name": "stdout",
     "output_type": "stream",
     "text": [
      "(1, 2, 3, 4, 5, 6, 7, 8, 9, 10)\n"
     ]
    }
   ],
   "source": [
    "## 11. Merge Two Tuples\n",
    "\n",
    "first_tuple = (1,2,3,4,5)\n",
    "second_tuple = (6,7,8,9,10)\n",
    "\n",
    "commmon_tuple = first_tuple + second_tuple\n",
    "print(commmon_tuple)\n"
   ]
  },
  {
   "cell_type": "code",
   "execution_count": 34,
   "id": "481e7bbf",
   "metadata": {},
   "outputs": [
    {
     "name": "stdout",
     "output_type": "stream",
     "text": [
      "the length of list is 6 and lenght of tuple is 8\n"
     ]
    }
   ],
   "source": [
    "## 12.Find the Length of a List and Tuple\n",
    "\n",
    "my_list = (1,2,3,5,6,8)\n",
    "my_tuple = [8,78,64,5,787,64,564,654]\n",
    "\n",
    "list_length = len(my_list)\n",
    "my_tuple = len(my_tuple)\n",
    "\n",
    "print(f'the length of list is {list_length} and lenght of tuple is {my_tuple}')"
   ]
  },
  {
   "cell_type": "code",
   "execution_count": 3,
   "id": "40b8254c",
   "metadata": {},
   "outputs": [
    {
     "name": "stdout",
     "output_type": "stream",
     "text": [
      "[1, 2, 3, 4, 5]\n"
     ]
    }
   ],
   "source": [
    "## 13. Convert Tuple to List\n",
    "\n",
    "tuple_numbers = (1,2,3,4,5)\n",
    "\n",
    "new_tuple_nums = list(tuple_numbers)\n",
    "print(new_tuple_nums)"
   ]
  },
  {
   "cell_type": "code",
   "execution_count": 37,
   "id": "d5b7c3f7",
   "metadata": {},
   "outputs": [
    {
     "name": "stdout",
     "output_type": "stream",
     "text": [
      "max value is 97 and min is 2\n"
     ]
    }
   ],
   "source": [
    "## 14. Find Maximum and Minimum in a Tuple\n",
    "\n",
    "tuple_values = (45,4,64,97,2,88,48,6)\n",
    "\n",
    "tuple_max = max(tuple_values)\n",
    "tuple_min = min(tuple_values)\n",
    "print(f'max value is {tuple_max} and min is {tuple_min}')"
   ]
  },
  {
   "cell_type": "code",
   "execution_count": 39,
   "id": "93ed7541",
   "metadata": {},
   "outputs": [
    {
     "name": "stdout",
     "output_type": "stream",
     "text": [
      "('bad', 'well', 'nice', 'bye', 'hello')\n"
     ]
    }
   ],
   "source": [
    "## 15. Reverse a Tuple\n",
    "\n",
    "tuple_words = ('hello', 'bye', 'nice', 'well', 'bad')\n",
    "\n",
    "reverse_words = tuple_words[::-1]\n",
    "\n",
    "print(reverse_words)"
   ]
  },
  {
   "cell_type": "code",
   "execution_count": null,
   "id": "30ce9704",
   "metadata": {},
   "outputs": [],
   "source": []
  }
 ],
 "metadata": {
  "kernelspec": {
   "display_name": "Python 3",
   "language": "python",
   "name": "python3"
  },
  "language_info": {
   "codemirror_mode": {
    "name": "ipython",
    "version": 3
   },
   "file_extension": ".py",
   "mimetype": "text/x-python",
   "name": "python",
   "nbconvert_exporter": "python",
   "pygments_lexer": "ipython3",
   "version": "3.12.9"
  }
 },
 "nbformat": 4,
 "nbformat_minor": 5
}
