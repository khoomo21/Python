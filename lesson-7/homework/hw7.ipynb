{
 "cells": [
  {
   "cell_type": "code",
   "execution_count": 2,
   "id": "a2880bd2",
   "metadata": {},
   "outputs": [
    {
     "name": "stdout",
     "output_type": "stream",
     "text": [
      "False\n"
     ]
    }
   ],
   "source": [
    "def is_prime(n: int) -> bool:\n",
    " \n",
    "    if n <= 1:  \n",
    "        return False\n",
    "    if n == 2:  \n",
    "        return True\n",
    "    if n % 2 == 0:  \n",
    "        return False\n",
    "\n",
    "   \n",
    "    for i in range(3, int(n ** 0.5) + 1, 2):\n",
    "        if n % i == 0:\n",
    "            return False\n",
    "    return True\n",
    "\n",
    "print(is_prime(100))"
   ]
  },
  {
   "cell_type": "code",
   "execution_count": 3,
   "id": "bfa1910d",
   "metadata": {},
   "outputs": [
    {
     "name": "stdout",
     "output_type": "stream",
     "text": [
      "7\n"
     ]
    }
   ],
   "source": [
    "def digit_sum(k: int) -> int:\n",
    "   \n",
    "    total = 0\n",
    "    while k > 0:\n",
    "        total += k % 10   \n",
    "        k //= 10          \n",
    "    return total\n",
    "print(digit_sum(502))"
   ]
  },
  {
   "cell_type": "code",
   "execution_count": 4,
   "id": "05126a85",
   "metadata": {},
   "outputs": [
    {
     "name": "stdout",
     "output_type": "stream",
     "text": [
      "1 2 4 8 "
     ]
    }
   ],
   "source": [
    "def powers_of_two(N: int):\n",
    "    \"\"\"N dan oshmaydigan barcha 2 ning darajalarini chiqaradi.\"\"\"\n",
    "    k = 1\n",
    "    while k <= N:\n",
    "        print(k, end=\" \")\n",
    "        k *= 2\n",
    "\n",
    "powers_of_two(10)"
   ]
  },
  {
   "cell_type": "code",
   "execution_count": null,
   "id": "44b35b0f",
   "metadata": {},
   "outputs": [],
   "source": []
  }
 ],
 "metadata": {
  "kernelspec": {
   "display_name": "Python 3",
   "language": "python",
   "name": "python3"
  },
  "language_info": {
   "codemirror_mode": {
    "name": "ipython",
    "version": 3
   },
   "file_extension": ".py",
   "mimetype": "text/x-python",
   "name": "python",
   "nbconvert_exporter": "python",
   "pygments_lexer": "ipython3",
   "version": "3.13.5"
  }
 },
 "nbformat": 4,
 "nbformat_minor": 5
}
