{
 "cells": [
  {
   "cell_type": "code",
   "execution_count": null,
   "id": "2855d1ed",
   "metadata": {},
   "outputs": [],
   "source": [
    "try:\n",
    "    a = 10\n",
    "    b = 0\n",
    "    result = a / b\n",
    "except ZeroDivisionError:\n",
    "    print(\"❌ Nolga bo‘lish mumkin emas!\")\n"
   ]
  },
  {
   "cell_type": "code",
   "execution_count": null,
   "id": "0f044176",
   "metadata": {},
   "outputs": [],
   "source": [
    "try:\n",
    "    num = int(input(\"Butun son kiriting: \"))\n",
    "    print(\"✅ Siz kiritgan son:\", num)\n",
    "except ValueError:\n",
    "    print(\"❌ Xatolik: Butun son kiritilmadi!\")\n"
   ]
  },
  {
   "cell_type": "code",
   "execution_count": null,
   "id": "20cee1e8",
   "metadata": {},
   "outputs": [],
   "source": [
    "try:\n",
    "    with open(\"data.txt\", \"r\") as f:\n",
    "        content = f.read()\n",
    "except FileNotFoundError:\n",
    "    print(\"❌ Fayl topilmadi!\")\n"
   ]
  },
  {
   "cell_type": "code",
   "execution_count": null,
   "id": "0a9bc7d9",
   "metadata": {},
   "outputs": [],
   "source": [
    "try:\n",
    "    a = float(input(\"Birinchi son: \"))\n",
    "    b = float(input(\"Ikkinchi son: \"))\n",
    "    print(\"Yig‘indi:\", a + b)\n",
    "except ValueError:\n",
    "    print(\"❌ Faqat son kiritish kerak!\")\n",
    "except TypeError:\n",
    "    print(\"❌ Tur mos kelmadi!\")\n"
   ]
  },
  {
   "cell_type": "code",
   "execution_count": null,
   "id": "d18a5af5",
   "metadata": {},
   "outputs": [],
   "source": [
    "try:\n",
    "    with open(\"/etc/hosts\", \"w\") as f:  # Linuxda yozish uchun odatda ruxsat bo‘lmaydi\n",
    "        f.write(\"Test\")\n",
    "except PermissionError:\n",
    "    print(\"❌ Ruxsat yo‘q!\")\n"
   ]
  },
  {
   "cell_type": "code",
   "execution_count": null,
   "id": "f0e088ca",
   "metadata": {},
   "outputs": [],
   "source": [
    "try:\n",
    "    my_list = [1, 2, 3]\n",
    "    print(my_list[5])\n",
    "except IndexError:\n",
    "    print(\"❌ Indeks ro‘yxat chegarasidan chiqdi!\")\n"
   ]
  },
  {
   "cell_type": "code",
   "execution_count": null,
   "id": "420bec46",
   "metadata": {},
   "outputs": [],
   "source": [
    "try:\n",
    "    num = input(\"Son kiriting: \")\n",
    "    print(\"Siz kiritdingiz:\", num)\n",
    "except KeyboardInterrupt:\n",
    "    print(\"\\n❌ Kiritish jarayoni bekor qilindi!\")\n"
   ]
  },
  {
   "cell_type": "code",
   "execution_count": null,
   "id": "1d0d1933",
   "metadata": {},
   "outputs": [],
   "source": [
    "try:\n",
    "    x = 10 / 0\n",
    "except ArithmeticError:\n",
    "    print(\"❌ Arifmetik xatolik!\")\n"
   ]
  },
  {
   "cell_type": "code",
   "execution_count": null,
   "id": "7cd81d25",
   "metadata": {},
   "outputs": [],
   "source": [
    "try:\n",
    "    with open(\"data.txt\", \"r\", encoding=\"ascii\") as f:\n",
    "        content = f.read()\n",
    "except UnicodeDecodeError:\n",
    "    print(\"❌ Kodlashda xatolik!\")\n"
   ]
  },
  {
   "cell_type": "code",
   "execution_count": null,
   "id": "14559938",
   "metadata": {},
   "outputs": [],
   "source": [
    "try:\n",
    "    my_list = [1, 2, 3]\n",
    "    my_list.push(4)   # list uchun bunday metod yo‘q\n",
    "except AttributeError:\n",
    "    print(\"❌ Bunday metod mavjud emas!\")\n"
   ]
  },
  {
   "cell_type": "code",
   "execution_count": null,
   "id": "00c01e09",
   "metadata": {},
   "outputs": [],
   "source": [
    "with open(\"sample.txt\", \"r\") as f:\n",
    "    print(f.read())\n"
   ]
  },
  {
   "cell_type": "code",
   "execution_count": null,
   "id": "f48dc4ad",
   "metadata": {},
   "outputs": [],
   "source": [
    "def read_first_n(filename, n):\n",
    "    with open(filename, \"r\") as f:\n",
    "        for i in range(n):\n",
    "            print(f.readline().strip())\n",
    "\n",
    "read_first_n(\"sample.txt\", 3)\n"
   ]
  },
  {
   "cell_type": "code",
   "execution_count": null,
   "id": "b78abd71",
   "metadata": {},
   "outputs": [],
   "source": [
    "with open(\"sample.txt\", \"a\") as f:\n",
    "    f.write(\"\\nYangi qator qo‘shildi!\")\n",
    "\n",
    "with open(\"sample.txt\", \"r\") as f:\n",
    "    print(f.read())\n"
   ]
  },
  {
   "cell_type": "code",
   "execution_count": null,
   "id": "0b00b25e",
   "metadata": {},
   "outputs": [],
   "source": [
    "def read_last_n(filename, n):\n",
    "    with open(filename, \"r\") as f:\n",
    "        lines = f.readlines()\n",
    "        for line in lines[-n:]:\n",
    "            print(line.strip())\n",
    "\n",
    "read_last_n(\"sample.txt\", 2)\n"
   ]
  },
  {
   "cell_type": "code",
   "execution_count": null,
   "id": "d6f3e518",
   "metadata": {},
   "outputs": [],
   "source": [
    "with open(\"sample.txt\", \"r\") as f:\n",
    "    lines = f.readlines()\n",
    "print(lines)\n"
   ]
  },
  {
   "cell_type": "code",
   "execution_count": null,
   "id": "bff68cf6",
   "metadata": {},
   "outputs": [],
   "source": [
    "with open(\"sample.txt\", \"r\") as f:\n",
    "    data = f.read()\n",
    "print(data)\n"
   ]
  },
  {
   "cell_type": "code",
   "execution_count": null,
   "id": "f6b6a67d",
   "metadata": {},
   "outputs": [],
   "source": [
    "import array\n",
    "\n",
    "with open(\"sample.txt\", \"r\") as f:\n",
    "    arr = [line.strip() for line in f]\n",
    "print(arr)\n"
   ]
  },
  {
   "cell_type": "code",
   "execution_count": null,
   "id": "88bd89e2",
   "metadata": {},
   "outputs": [],
   "source": [
    "with open(\"sample.txt\", \"r\") as f:\n",
    "    words = f.read().split()\n",
    "longest = max(words, key=len)\n",
    "print(\"Eng uzun so‘z:\", longest)\n"
   ]
  },
  {
   "cell_type": "code",
   "execution_count": null,
   "id": "e4e80f7c",
   "metadata": {},
   "outputs": [],
   "source": [
    "with open(\"sample.txt\", \"r\") as f:\n",
    "    count = sum(1 for _ in f)\n",
    "print(\"Qatorlar soni:\", count)\n"
   ]
  },
  {
   "cell_type": "code",
   "execution_count": null,
   "id": "b72fefe6",
   "metadata": {},
   "outputs": [],
   "source": [
    "from collections import Counter\n",
    "\n",
    "with open(\"sample.txt\", \"r\") as f:\n",
    "    words = f.read().split()\n",
    "freq = Counter(words)\n",
    "print(freq)\n"
   ]
  },
  {
   "cell_type": "code",
   "execution_count": null,
   "id": "515f87eb",
   "metadata": {},
   "outputs": [],
   "source": [
    "import os\n",
    "print(\"Fayl hajmi:\", os.path.getsize(\"sample.txt\"), \"bayt\")\n"
   ]
  },
  {
   "cell_type": "code",
   "execution_count": null,
   "id": "b6f57512",
   "metadata": {},
   "outputs": [],
   "source": [
    "my_list = [\"apple\", \"banana\", \"cherry\"]\n",
    "with open(\"list.txt\", \"w\") as f:\n",
    "    for item in my_list:\n",
    "        f.write(item + \"\\n\")\n"
   ]
  },
  {
   "cell_type": "code",
   "execution_count": null,
   "id": "0baeb6b5",
   "metadata": {},
   "outputs": [],
   "source": [
    "with open(\"sample.txt\", \"r\") as f1, open(\"copy.txt\", \"w\") as f2:\n",
    "    for line in f1:\n",
    "        f2.write(line)\n"
   ]
  },
  {
   "cell_type": "code",
   "execution_count": null,
   "id": "9e8d6025",
   "metadata": {},
   "outputs": [],
   "source": [
    "with open(\"file1.txt\") as f1, open(\"file2.txt\") as f2:\n",
    "    for line1, line2 in zip(f1, f2):\n",
    "        print(line1.strip() + \" \" + line2.strip())\n"
   ]
  },
  {
   "cell_type": "code",
   "execution_count": null,
   "id": "dbff8fe6",
   "metadata": {},
   "outputs": [],
   "source": [
    "import random\n",
    "with open(\"sample.txt\", \"r\") as f:\n",
    "    lines = f.readlines()\n",
    "print(\"Random qator:\", random.choice(lines).strip())\n"
   ]
  },
  {
   "cell_type": "code",
   "execution_count": null,
   "id": "85bda3e1",
   "metadata": {},
   "outputs": [],
   "source": [
    "f = open(\"sample.txt\", \"r\")\n",
    "print(\"Fayl yopilganmi?\", f.closed)\n",
    "f.close()\n",
    "print(\"Fayl yopilganmi?\", f.closed)\n"
   ]
  },
  {
   "cell_type": "code",
   "execution_count": null,
   "id": "c33bb496",
   "metadata": {},
   "outputs": [],
   "source": [
    "with open(\"sample.txt\", \"r\") as f:\n",
    "    lines = [line.strip() for line in f]\n",
    "print(lines)\n"
   ]
  },
  {
   "cell_type": "code",
   "execution_count": null,
   "id": "2fd423c3",
   "metadata": {},
   "outputs": [],
   "source": [
    "with open(\"sample.txt\", \"r\") as f:\n",
    "    words = f.read().replace(\",\", \" \").split()\n",
    "print(\"So‘zlar soni:\", len(words))\n"
   ]
  },
  {
   "cell_type": "code",
   "execution_count": null,
   "id": "5bb00e8d",
   "metadata": {},
   "outputs": [],
   "source": [
    "files = [\"sample.txt\", \"copy.txt\"]\n",
    "chars = []\n",
    "for fname in files:\n",
    "    with open(fname, \"r\") as f:\n",
    "        chars.extend(list(f.read()))\n",
    "print(chars)\n"
   ]
  },
  {
   "cell_type": "code",
   "execution_count": null,
   "id": "e3b5e096",
   "metadata": {},
   "outputs": [],
   "source": [
    "import string\n",
    "for letter in string.ascii_uppercase:\n",
    "    with open(f\"{letter}.txt\", \"w\") as f:\n",
    "        f.write(f\"This is file {letter}.txt\\n\")\n"
   ]
  },
  {
   "cell_type": "code",
   "execution_count": null,
   "id": "9cc42964",
   "metadata": {},
   "outputs": [],
   "source": [
    "import string\n",
    "\n",
    "def write_alphabet_per_line(n):\n",
    "    letters = string.ascii_lowercase\n",
    "    with open(\"alphabet.txt\", \"w\") as f:\n",
    "        for i in range(0, len(letters), n):\n",
    "            f.write(\" \".join(letters[i:i+n]) + \"\\n\")\n",
    "\n",
    "write_alphabet_per_line(5)\n"
   ]
  }
 ],
 "metadata": {
  "kernelspec": {
   "display_name": "Python 3",
   "language": "python",
   "name": "python3"
  },
  "language_info": {
   "name": "python",
   "version": "3.13.5"
  }
 },
 "nbformat": 4,
 "nbformat_minor": 5
}
