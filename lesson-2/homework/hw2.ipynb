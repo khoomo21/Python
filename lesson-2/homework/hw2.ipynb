{
 "cells": [
  {
   "cell_type": "code",
   "execution_count": null,
   "id": "1348d67d",
   "metadata": {},
   "outputs": [
    {
     "name": "stdout",
     "output_type": "stream",
     "text": [
      "noto'gri matn shakli, iltimos yilingizni kiriting!\n"
     ]
    }
   ],
   "source": [
    "## 1. Age Calculator. Write a Python program to ask for a user's name and year of birth, then calculate and display their age.\n",
    "\n",
    "from datetime import datetime\n",
    "\n",
    "name = input('ismingiz nima?')\n",
    "age = input('nechanchi yilsiz')\n",
    "\n",
    "\n",
    "if not age.isdigit() :\n",
    "    print(\"noto'gri matn shakli, iltimos yilingizni kiriting!\")\n",
    "else:\n",
    "    age = int(age)\n",
    "    current_age = datetime.now().year - age  \n",
    "    print(f'sizning ismingiz {name} va siz {current_age} yoshdasiz') "
   ]
  },
  {
   "cell_type": "code",
   "execution_count": null,
   "id": "7936ea09",
   "metadata": {},
   "outputs": [
    {
     "name": "stdout",
     "output_type": "stream",
     "text": [
      "Lasetti and Malibu\n"
     ]
    }
   ],
   "source": [
    "## 2. Extract Car Names.Extract car names from the following text\n",
    "\n",
    "car_name = 'LMaasleitbtui'\n",
    "car_name1 = car_name[::2]\n",
    "car_name2 = car_name[1::2]\n",
    "print(f'{car_name1} and {car_name2}')\n"
   ]
  },
  {
   "cell_type": "code",
   "execution_count": null,
   "id": "12d30744",
   "metadata": {},
   "outputs": [
    {
     "name": "stdout",
     "output_type": "stream",
     "text": [
      "my cars are Matiz and Damas\n"
     ]
    }
   ],
   "source": [
    "## 3. Extract Car Names.Extract car names from the following text\n",
    "\n",
    "my_cars = 'MsaatmiazD'\n",
    "\n",
    "\n",
    "my_first_car = my_cars[::2]\n",
    "my_second_car = my_cars[-1::-2]\n",
    "\n",
    "print(f'my cars are {my_first_car} and {my_second_car}')"
   ]
  },
  {
   "cell_type": "code",
   "execution_count": 22,
   "id": "93ef85c4",
   "metadata": {},
   "outputs": [
    {
     "data": {
      "text/plain": [
       "'London'"
      ]
     },
     "execution_count": 22,
     "metadata": {},
     "output_type": "execute_result"
    }
   ],
   "source": [
    "## 4. Extract Residence Area.Extract the residence area from the following text\n",
    "\n",
    "residence_area = \"I'am John. I am from London\"\n",
    "residence_area.split()[-1]\n",
    "\n"
   ]
  },
  {
   "cell_type": "code",
   "execution_count": null,
   "id": "7a2d6e84",
   "metadata": {},
   "outputs": [
    {
     "name": "stdout",
     "output_type": "stream",
     "text": [
      "the reversed version of deku is uked\n"
     ]
    }
   ],
   "source": [
    "## 5.Reverse String.Write a Python program that takes a user input string and prints it in reverse order\n",
    "\n",
    "text = input('enter the text, i will response reversed version')\n",
    "reverse_text = text[::-1]\n",
    "print(f'the reversed version of {text} is {reverse_text}')\n"
   ]
  },
  {
   "cell_type": "code",
   "execution_count": 4,
   "id": "71061a9c",
   "metadata": {},
   "outputs": [
    {
     "name": "stdout",
     "output_type": "stream",
     "text": [
      "the total count of vowels is 7\n"
     ]
    }
   ],
   "source": [
    "## 6. Count Vowels.Write a Python program that counts the number of vowels in a given string\n",
    "\n",
    "vowel_text = input('enter the text , i will higlight vowels in this text').lower()\n",
    "\n",
    "vowels = 'aeiou'\n",
    "\n",
    "count = 0\n",
    "for vowel in vowel_text:\n",
    "    if vowel in vowels:\n",
    "        count += 1    \n",
    "print(f'the total count of vowels is {count}')"
   ]
  },
  {
   "cell_type": "code",
   "execution_count": null,
   "id": "57205d11",
   "metadata": {},
   "outputs": [
    {
     "name": "stdout",
     "output_type": "stream",
     "text": [
      "95\n"
     ]
    }
   ],
   "source": [
    "## 7. Find Maximum Value.Write a Python program that takes a list of numbers as input and prints the maximum value\n",
    "\n",
    "numbers = input('enter some numbers, i response max value')\n",
    "\n",
    "numbers_list = numbers.split()\n",
    "max_value = max(numbers_list)\n",
    "print(max_value)"
   ]
  },
  {
   "cell_type": "code",
   "execution_count": 10,
   "id": "85e9fe5d",
   "metadata": {},
   "outputs": [
    {
     "name": "stdout",
     "output_type": "stream",
     "text": [
      "palindrom\n"
     ]
    }
   ],
   "source": [
    "## 8. Check Palindrome. Write a Python program that checks if a given word is a palindrome (reads the same forward and backward)\n",
    "\n",
    "is_palindrom = input('enter the text, i will check palindrom')\n",
    "\n",
    "if is_palindrom == is_palindrom[::-1] :\n",
    "    print('palindrom')\n",
    "else:\n",
    "    print('palindrom emas')    "
   ]
  },
  {
   "cell_type": "code",
   "execution_count": 13,
   "id": "6e5cd2bc",
   "metadata": {},
   "outputs": [
    {
     "name": "stdout",
     "output_type": "stream",
     "text": [
      "domain is: gmail.com\n"
     ]
    }
   ],
   "source": [
    "## 9. Extract Email Domain. Write a Python program that extracts and prints the domain from an email address provided by the user\n",
    "\n",
    "email = input(\"Enter your email address: \")\n",
    "\n",
    "if \"@\" in email:\n",
    "    domain = email.split(\"@\")[1]\n",
    "    print(f\"domain is: {domain}\")\n",
    "else:\n",
    "    print(\"Invalid email address!\")\n",
    "\n"
   ]
  },
  {
   "cell_type": "code",
   "execution_count": 16,
   "id": "0eb226c7",
   "metadata": {},
   "outputs": [
    {
     "name": "stdout",
     "output_type": "stream",
     "text": [
      "Generated password: [zt20142\n"
     ]
    }
   ],
   "source": [
    "import random\n",
    "import string\n",
    "\n",
    "length = int(input(\"Enter password length\"))\n",
    "characters = string.ascii_letters + string.digits + string.punctuation\n",
    "password = ''.join(random.choice(characters) for _ in range(length))\n",
    "\n",
    "print(f\"Generated password: {password}\")\n"
   ]
  },
  {
   "cell_type": "code",
   "execution_count": null,
   "id": "fd227b0f",
   "metadata": {},
   "outputs": [],
   "source": []
  }
 ],
 "metadata": {
  "kernelspec": {
   "display_name": "Python 3",
   "language": "python",
   "name": "python3"
  },
  "language_info": {
   "codemirror_mode": {
    "name": "ipython",
    "version": 3
   },
   "file_extension": ".py",
   "mimetype": "text/x-python",
   "name": "python",
   "nbconvert_exporter": "python",
   "pygments_lexer": "ipython3",
   "version": "3.12.9"
  }
 },
 "nbformat": 4,
 "nbformat_minor": 5
}
