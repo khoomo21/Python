{
 "cells": [
  {
   "cell_type": "code",
   "execution_count": null,
   "id": "e910feb3",
   "metadata": {},
   "outputs": [
    {
     "name": "stdout",
     "output_type": "stream",
     "text": [
      "hel_lo\n"
     ]
    }
   ],
   "source": [
    "def modify_string(txt):\n",
    "    vowels = \"aeiou\"\n",
    "    result = \"\"\n",
    "    count = 0\n",
    "    \n",
    "    i = 0\n",
    "    while i < len(txt):\n",
    "        result += txt[i]\n",
    "        count += 1\n",
    "        \n",
    "        if count == 3:  \n",
    "            if txt[i] in vowels: \n",
    "                if i + 1 < len(txt):  \n",
    "                    result += txt[i+1] + \"_\"\n",
    "                    i += 1  \n",
    "            elif i + 1 < len(txt) and txt[i+1] == \"_\": \n",
    "                if i + 2 < len(txt):\n",
    "                    result += txt[i+1] + txt[i+2] + \"_\"\n",
    "                    i += 2\n",
    "            else:\n",
    "                if i + 1 < len(txt): \n",
    "                    result += \"_\"\n",
    "            count = 0\n",
    "        i += 1\n",
    "    \n",
    "    return result\n",
    "\n",
    "print(modify_string(\"hello\")) \n"
   ]
  },
  {
   "cell_type": "code",
   "execution_count": null,
   "id": "7283d0e1",
   "metadata": {},
   "outputs": [
    {
     "name": "stdout",
     "output_type": "stream",
     "text": [
      "0\n",
      "1\n",
      "4\n",
      "9\n",
      "16\n"
     ]
    }
   ],
   "source": [
    "\n",
    "n = int(input().strip())\n",
    "\n",
    "for i in range(n):\n",
    "    print(i ** 2)\n"
   ]
  },
  {
   "cell_type": "code",
   "execution_count": 5,
   "id": "6afeea80",
   "metadata": {},
   "outputs": [
    {
     "name": "stdout",
     "output_type": "stream",
     "text": [
      "1\n",
      "2\n",
      "3\n",
      "4\n",
      "5\n",
      "6\n",
      "7\n",
      "8\n",
      "9\n",
      "10\n"
     ]
    }
   ],
   "source": [
    "i = 1\n",
    "while i <= 10:\n",
    "    print(i)\n",
    "    i += 1\n"
   ]
  },
  {
   "cell_type": "code",
   "execution_count": 8,
   "id": "fc23bff0",
   "metadata": {},
   "outputs": [
    {
     "name": "stdout",
     "output_type": "stream",
     "text": [
      "1 \n",
      "1 2 \n",
      "1 2 3 \n",
      "1 2 3 4 \n",
      "1 2 3 4 5 \n"
     ]
    }
   ],
   "source": [
    "rows = 5\n",
    "for i in range(1, rows + 1):\n",
    "    for j in range(1, i + 1):\n",
    "        print(j, end=\" \")\n",
    "    print()\n"
   ]
  },
  {
   "cell_type": "code",
   "execution_count": 9,
   "id": "cbf33527",
   "metadata": {},
   "outputs": [
    {
     "name": "stdout",
     "output_type": "stream",
     "text": [
      "Sum is: 55\n"
     ]
    }
   ],
   "source": [
    "n = int(input(\"Enter number: \"))\n",
    "\n",
    "i = 1\n",
    "total = 0\n",
    "\n",
    "while i <= n:\n",
    "    total += i\n",
    "    i += 1\n",
    "\n",
    "print(\"Sum is:\", total)\n"
   ]
  },
  {
   "cell_type": "code",
   "execution_count": 10,
   "id": "8f13f889",
   "metadata": {},
   "outputs": [
    {
     "name": "stdout",
     "output_type": "stream",
     "text": [
      "50\n",
      "100\n",
      "150\n",
      "200\n",
      "250\n",
      "300\n",
      "350\n",
      "400\n",
      "450\n",
      "500\n"
     ]
    }
   ],
   "source": [
    "n = int(input(\"Enter number: \"))\n",
    "\n",
    "for i in range(1, 11):\n",
    "    print(n * i)\n"
   ]
  },
  {
   "cell_type": "code",
   "execution_count": 11,
   "id": "39b19ce1",
   "metadata": {},
   "outputs": [
    {
     "name": "stdout",
     "output_type": "stream",
     "text": [
      "75\n",
      "150\n",
      "145\n"
     ]
    }
   ],
   "source": [
    "numbers = [12, 75, 150, 180, 145, 525, 50]\n",
    "\n",
    "for num in numbers:\n",
    "    if num > 500:\n",
    "        break  \n",
    "    if num > 150:\n",
    "        continue \n",
    "    if num % 5 == 0:\n",
    "        print(num)\n"
   ]
  },
  {
   "cell_type": "code",
   "execution_count": 12,
   "id": "e73a7c49",
   "metadata": {},
   "outputs": [
    {
     "name": "stdout",
     "output_type": "stream",
     "text": [
      "Total digits: 2\n"
     ]
    }
   ],
   "source": [
    "num = int(input(\"Enter number: \"))\n",
    "\n",
    "count = 0\n",
    "while num > 0:\n",
    "    num //= 10  \n",
    "    count += 1\n",
    "\n",
    "print(\"Total digits:\", count)\n"
   ]
  },
  {
   "cell_type": "code",
   "execution_count": 13,
   "id": "964550eb",
   "metadata": {},
   "outputs": [
    {
     "name": "stdout",
     "output_type": "stream",
     "text": [
      "5 4 3 2 1 \n",
      "4 3 2 1 \n",
      "3 2 1 \n",
      "2 1 \n",
      "1 \n"
     ]
    }
   ],
   "source": [
    "rows = 5\n",
    "\n",
    "for i in range(rows, 0, -1):\n",
    "    for j in range(i, 0, -1):\n",
    "        print(j, end=\" \")\n",
    "    print()"
   ]
  },
  {
   "cell_type": "code",
   "execution_count": 14,
   "id": "cceab5b7",
   "metadata": {},
   "outputs": [
    {
     "name": "stdout",
     "output_type": "stream",
     "text": [
      "50\n",
      "40\n",
      "30\n",
      "20\n",
      "10\n"
     ]
    }
   ],
   "source": [
    "list1 = [10, 20, 30, 40, 50]\n",
    "\n",
    "for i in range(len(list1) - 1, -1, -1):\n",
    "    print(list1[i])\n"
   ]
  },
  {
   "cell_type": "code",
   "execution_count": 15,
   "id": "22572741",
   "metadata": {},
   "outputs": [
    {
     "name": "stdout",
     "output_type": "stream",
     "text": [
      "-10\n",
      "-9\n",
      "-8\n",
      "-7\n",
      "-6\n",
      "-5\n",
      "-4\n",
      "-3\n",
      "-2\n",
      "-1\n"
     ]
    }
   ],
   "source": [
    "for i in range(-10, 0):\n",
    "    print(i)\n",
    "\n"
   ]
  },
  {
   "cell_type": "code",
   "execution_count": 16,
   "id": "f461907b",
   "metadata": {},
   "outputs": [
    {
     "name": "stdout",
     "output_type": "stream",
     "text": [
      "0\n",
      "1\n",
      "2\n",
      "3\n",
      "4\n",
      "Done!\n"
     ]
    }
   ],
   "source": [
    "for i in range(5):\n",
    "    print(i)\n",
    "else:\n",
    "    print(\"Done!\")"
   ]
  },
  {
   "cell_type": "code",
   "execution_count": 17,
   "id": "bda873db",
   "metadata": {},
   "outputs": [
    {
     "name": "stdout",
     "output_type": "stream",
     "text": [
      "Prime numbers between 25 and 50:\n",
      "29\n",
      "31\n",
      "37\n",
      "41\n",
      "43\n",
      "47\n"
     ]
    }
   ],
   "source": [
    "start = 25\n",
    "end = 50\n",
    "\n",
    "print(f\"Prime numbers between {start} and {end}:\")\n",
    "\n",
    "for num in range(start, end + 1):\n",
    "    if num > 1:  \n",
    "        is_prime = True\n",
    "        for i in range(2, int(num ** 0.5) + 1):\n",
    "            if num % i == 0:\n",
    "                is_prime = False\n",
    "                break\n",
    "        if is_prime:\n",
    "            print(num)\n"
   ]
  },
  {
   "cell_type": "code",
   "execution_count": 18,
   "id": "1640a14f",
   "metadata": {},
   "outputs": [
    {
     "name": "stdout",
     "output_type": "stream",
     "text": [
      "Fibonacci sequence:\n",
      "0  1  1  2  3  5  8  13  21  34  "
     ]
    }
   ],
   "source": [
    "n_terms = 10\n",
    "\n",
    "print(\"Fibonacci sequence:\")\n",
    "\n",
    "a, b = 0, 1\n",
    "for i in range(n_terms):\n",
    "    print(a, end=\"  \")\n",
    "    a, b = b, a + b\n"
   ]
  },
  {
   "cell_type": "code",
   "execution_count": null,
   "id": "e2cd7e0b",
   "metadata": {},
   "outputs": [],
   "source": [
    "num = int(input(\"Enter number: \"))\n",
    "\n",
    "fact = 1\n",
    "for i in range(1, num + 1):\n",
    "    fact *= i\n",
    "\n",
    "print(f\"{num}! = {fact}\")"
   ]
  },
  {
   "cell_type": "code",
   "execution_count": null,
   "id": "de1b9370",
   "metadata": {},
   "outputs": [
    {
     "name": "stdout",
     "output_type": "stream",
     "text": [
      "[1, 1, 3, 4]\n"
     ]
    }
   ],
   "source": [
    "from collections import Counter\n",
    "\n",
    "def uncommon_elements(list1, list2):\n",
    "    c1, c2 = Counter(list1), Counter(list2)\n",
    "    result = []\n",
    "\n",
    "    for elem in c1:\n",
    "        if elem not in c2:\n",
    "            result.extend([elem] * c1[elem])\n",
    "        else:\n",
    "            diff = c1[elem] - c2[elem]\n",
    "            if diff > 0:\n",
    "                result.extend([elem] * diff)\n",
    "\n",
    "    for elem in c2:\n",
    "        if elem not in c1:\n",
    "            result.extend([elem] * c2[elem])\n",
    "        else:\n",
    "            diff = c2[elem] - c1[elem]\n",
    "            if diff > 0:\n",
    "                result.extend([elem] * diff)\n",
    "\n",
    "    return result\n",
    "print(uncommon_elements([1, 1, 2], [2, 3, 4]))  "
   ]
  }
 ],
 "metadata": {
  "kernelspec": {
   "display_name": "Python 3",
   "language": "python",
   "name": "python3"
  },
  "language_info": {
   "codemirror_mode": {
    "name": "ipython",
    "version": 3
   },
   "file_extension": ".py",
   "mimetype": "text/x-python",
   "name": "python",
   "nbconvert_exporter": "python",
   "pygments_lexer": "ipython3",
   "version": "3.13.5"
  }
 },
 "nbformat": 4,
 "nbformat_minor": 5
}
