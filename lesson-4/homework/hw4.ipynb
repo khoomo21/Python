{
 "cells": [
  {
   "cell_type": "code",
   "execution_count": null,
   "id": "0d6499e6",
   "metadata": {},
   "outputs": [
    {
     "name": "stdout",
     "output_type": "stream",
     "text": [
      "ascending: {'b': 1, 'd': 2, 'a': 3, 'c': 5, 'j': 8}\n",
      "descending: {'j': 8, 'c': 5, 'a': 3, 'd': 2, 'b': 1}\n"
     ]
    }
   ],
   "source": [
    "## 1. Sort a Dictionary by Value\n",
    "\n",
    "datas = {'a': 3, 'b': 1, 'c': 5, 'd': 2, 'j':8}\n",
    "\n",
    "ascending = dict(sorted(datas.items(), key=lambda x: x[1]))\n",
    "print(\"ascending:\", ascending)\n",
    "\n",
    "descending = dict(sorted(datas.items(), key=lambda x: x[1], reverse=True))\n",
    "print(\"descending:\", descending)"
   ]
  },
  {
   "cell_type": "code",
   "execution_count": 9,
   "id": "b0cae051",
   "metadata": {},
   "outputs": [
    {
     "name": "stdout",
     "output_type": "stream",
     "text": [
      "{'name': 'deku', 'age': 22, 'nationality': 'uzbek', 'job': 'IT'}\n"
     ]
    }
   ],
   "source": [
    "## 2. Add a Key to a Dictionary\n",
    "\n",
    "personal = {\n",
    "    'name':'deku',\n",
    "    'age':22,\n",
    "    'nationality':'uzbek',\n",
    "}\n",
    "\n",
    "personal['job'] = 'IT'\n",
    "print(personal)\n"
   ]
  },
  {
   "cell_type": "code",
   "execution_count": null,
   "id": "2c5c9e29",
   "metadata": {},
   "outputs": [
    {
     "name": "stdout",
     "output_type": "stream",
     "text": [
      "{1: 10, 2: 20, 3: 30, 4: 40, 5: 50, 6: 60}\n"
     ]
    }
   ],
   "source": [
    "## 3. Concatenate Multiple Dictionaries\n",
    "\n",
    "dic1 = {1: 10, 2: 20}\n",
    "dic2 = {3: 30, 4: 40}\n",
    "dic3 = {5: 50, 6: 60}\n",
    "\n",
    "new_dict = {**dic1, **dic2, **dic3 }\n",
    "print(new_dict)"
   ]
  },
  {
   "cell_type": "code",
   "execution_count": 13,
   "id": "45cabb01",
   "metadata": {},
   "outputs": [
    {
     "name": "stdout",
     "output_type": "stream",
     "text": [
      "{1: 1, 2: 4, 3: 9, 4: 16, 5: 25}\n"
     ]
    }
   ],
   "source": [
    "## 4. Generate a Dictionary with Squares\n",
    "\n",
    "square = int(input('enter the number'))\n",
    "\n",
    "kvadrat = {x:x*x for x in range(1,square+1)}\n",
    "\n",
    "print(kvadrat)"
   ]
  },
  {
   "cell_type": "code",
   "execution_count": null,
   "id": "ad5b1c24",
   "metadata": {},
   "outputs": [
    {
     "name": "stdout",
     "output_type": "stream",
     "text": [
      "{1: 1, 2: 4, 3: 9, 4: 16, 5: 25, 6: 36, 7: 49, 8: 64, 9: 81, 10: 100, 11: 121, 12: 144, 13: 169, 14: 196, 15: 225}\n"
     ]
    }
   ],
   "source": [
    "## 5. Dictionary of Squares (1 to 15)\n",
    "squares = {x:x*x for x in range(1,16)}\n",
    "\n",
    "print(squares)"
   ]
  },
  {
   "cell_type": "code",
   "execution_count": null,
   "id": "11f699cf",
   "metadata": {},
   "outputs": [
    {
     "name": "stdout",
     "output_type": "stream",
     "text": [
      "My set: {'cherry', 'banana', 'apple'}\n"
     ]
    }
   ],
   "source": [
    "## 6. Create a Set\n",
    "\n",
    "my_set = {\"apple\", \"banana\", \"cherry\"}\n",
    "print(\"My set:\", my_set)"
   ]
  },
  {
   "cell_type": "code",
   "execution_count": 20,
   "id": "a0775e8e",
   "metadata": {},
   "outputs": [
    {
     "name": "stdout",
     "output_type": "stream",
     "text": [
      "cherry\n",
      "banana\n",
      "apple\n"
     ]
    }
   ],
   "source": [
    "## 7. Iterate Over a Set\n",
    "tropic_fruits = {\"apple\", \"banana\", \"cherry\"}\n",
    "\n",
    "for tropic in tropic_fruits:\n",
    "    print(tropic)\n",
    "\n"
   ]
  },
  {
   "cell_type": "code",
   "execution_count": 21,
   "id": "5aadb7c0",
   "metadata": {},
   "outputs": [
    {
     "name": "stdout",
     "output_type": "stream",
     "text": [
      "{'felix', 'dalot', 'ranaldo', 'bruno'}\n"
     ]
    }
   ],
   "source": [
    "## 3. Add Member(s) to a Set\n",
    "\n",
    "players = {'dalot', 'ranaldo', 'bruno'}\n",
    "players.add('felix')\n",
    "print(players)"
   ]
  },
  {
   "cell_type": "code",
   "execution_count": 22,
   "id": "6805fae7",
   "metadata": {},
   "outputs": [
    {
     "name": "stdout",
     "output_type": "stream",
     "text": [
      "{'malibu', 'gentra', 'tracker', 'kia5'}\n"
     ]
    }
   ],
   "source": [
    "## 4. Remove Item(s) from a Set\n",
    "\n",
    "cars = {'malibu', 'tracker', 'kia5', 'gentra', 'cobalt'}\n",
    "cars.remove('cobalt')\n",
    "print(cars)"
   ]
  },
  {
   "cell_type": "code",
   "execution_count": null,
   "id": "350969d9",
   "metadata": {},
   "outputs": [
    {
     "name": "stdout",
     "output_type": "stream",
     "text": [
      "deku deleted from the set\n",
      "updated set: {'luffy', 'xinata', 'naruto', 'saske'}\n"
     ]
    }
   ],
   "source": [
    "## 5. Remove an Item if Present in the Set\n",
    "\n",
    "characters = {'deku', 'naruto', 'xinata', 'saske', 'luffy'}\n",
    "\n",
    "if 'deku' in characters:\n",
    "    characters.remove('deku')\n",
    "    print('deku deleted from the set')\n",
    "else:\n",
    "    print('there is no deku in the set')    \n",
    "\n",
    "print('updated set:', characters)"
   ]
  },
  {
   "cell_type": "code",
   "execution_count": null,
   "id": "b6682a9b",
   "metadata": {},
   "outputs": [],
   "source": []
  }
 ],
 "metadata": {
  "kernelspec": {
   "display_name": "Python 3",
   "language": "python",
   "name": "python3"
  },
  "language_info": {
   "codemirror_mode": {
    "name": "ipython",
    "version": 3
   },
   "file_extension": ".py",
   "mimetype": "text/x-python",
   "name": "python",
   "nbconvert_exporter": "python",
   "pygments_lexer": "ipython3",
   "version": "3.12.9"
  }
 },
 "nbformat": 4,
 "nbformat_minor": 5
}
